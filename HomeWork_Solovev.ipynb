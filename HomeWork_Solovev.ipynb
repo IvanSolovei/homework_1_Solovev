{
 "cells": [
  {
   "cell_type": "code",
   "execution_count": 4,
   "id": "6f534d0b",
   "metadata": {},
   "outputs": [
    {
     "name": "stdout",
     "output_type": "stream",
     "text": [
      "фраза 1 длиннее фразы 2\n"
     ]
    }
   ],
   "source": [
    "phrase_1 = 'Насколько проще было бы писать программы, если бы не заказчики'\n",
    "phrase_2 = '640Кб должно хватить для любых задач. Билл Гейтс (по легенде)'\n",
    "if len (phrase_1)>len (phrase_2):\n",
    "    print ('фраза 1 длиннее фразы 2')\n",
    "elif len (phrase_1)<len (phrase_2):\n",
    "    print ('фраза 2 длиннее фразы 1')\n",
    "else:\n",
    "    print ('фразы равной длины')"
   ]
  },
  {
   "cell_type": "code",
   "execution_count": 10,
   "id": "f6e2cfa1",
   "metadata": {},
   "outputs": [
    {
     "name": "stdout",
     "output_type": "stream",
     "text": [
      "2000 год високосный\n"
     ]
    }
   ],
   "source": [
    "year = 2000\n",
    "\n",
    "if (year % 4) == 0 and (year % 100) != 0 or (year % 400) == 0:\n",
    "    print(year, \"год високосный\")\n",
    "else:\n",
    "    print(year,'Обычный год')"
   ]
  },
  {
   "cell_type": "code",
   "execution_count": 3,
   "id": "dfa6758a",
   "metadata": {},
   "outputs": [
    {
     "name": "stdout",
     "output_type": "stream",
     "text": [
      "лев\n"
     ]
    }
   ],
   "source": [
    "day = 16\n",
    "month = 'август'\n",
    "if (day >= 21 and month =='март') or (day <= 21 and month =='апрель'):\n",
    "    print ('овен')\n",
    "elif (day >= 22 and month =='апрель') or(day <= 21 and month =='май'):\n",
    "    print ('телец')\n",
    "elif (day >= 22 and month =='май') or (day <= 21 and month =='июнь'):\n",
    "    print ('близнецы')\n",
    "elif (day >= 22 and month =='июнь') or (day <= 22 and month =='июль'):\n",
    "    print ('рак')\n",
    "elif (day >= 23 and month =='июль') or (day <= 23 and month =='август'):\n",
    "    print ('лев')\n",
    "elif (day >= 24 and month =='август') or (day <= 22 and month =='сентябрь'):\n",
    "    print ('дева')\n",
    "elif (day >= 23 and month =='сентябрь') or (day <= 22 and month =='октябрь'):\n",
    "    print ('весы')\n",
    "elif (day >= 23 and month =='октябрь') or (day <= 21 and month =='ноябрь'):\n",
    "    print ('скорпион')\n",
    "elif (day >= 22 and month =='ноябрь') or (day <= 21 and month =='декабрь'):\n",
    "    print ('стрелец')\n",
    "elif (day >= 22 and month =='декабрь') or (day <= 20 and month =='январь'):\n",
    "    print ('козерог')\n",
    "elif (day >= 21 and month =='январь') or (day <= 19 and month =='февраль'):\n",
    "    print ('водолей')\n",
    "elif (day >= 20 and month =='февраль') or (day <= 20 and month =='март'):\n",
    "    print ('рыбы')\n",
    "else:\n",
    "    print ('неправильная дата')\n"
   ]
  },
  {
   "cell_type": "code",
   "execution_count": 7,
   "id": "5ffa147c",
   "metadata": {},
   "outputs": [
    {
     "name": "stdout",
     "output_type": "stream",
     "text": [
      "Стандартная коробка №3\n"
     ]
    }
   ],
   "source": [
    "width = 30\n",
    "length = 190\n",
    "heigth = 5\n",
    "if width < 15 and length <15 and heigth < 15:\n",
    "    print ('Коробка №1')\n",
    "elif (15 < width <50) and (15 < length < 50) and (15 < heigth < 50):\n",
    "    print ('Коробка №2')\n",
    "elif length >200:\n",
    "    print ('Упаковка для лыж')\n",
    "else:\n",
    "    print ('Стандартная коробка №3')"
   ]
  },
  {
   "cell_type": "code",
   "execution_count": null,
   "id": "59015722",
   "metadata": {},
   "outputs": [],
   "source": []
  }
 ],
 "metadata": {
  "kernelspec": {
   "display_name": "Python 3 (ipykernel)",
   "language": "python",
   "name": "python3"
  },
  "language_info": {
   "codemirror_mode": {
    "name": "ipython",
    "version": 3
   },
   "file_extension": ".py",
   "mimetype": "text/x-python",
   "name": "python",
   "nbconvert_exporter": "python",
   "pygments_lexer": "ipython3",
   "version": "3.8.9"
  }
 },
 "nbformat": 4,
 "nbformat_minor": 5
}
